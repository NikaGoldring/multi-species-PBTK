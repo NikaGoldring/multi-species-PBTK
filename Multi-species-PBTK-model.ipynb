{
 "cells": [
  {
   "cell_type": "markdown",
   "metadata": {},
   "source": [
    "# Introduction\n",
    "\n",
    "This Notebook represents a multi-species physiologically-based toxicokinetic (PBTK) model published by <a href='#section_IDRef'>Mangold-Döring et al. (submitted to ES&T in August 2020)</a>. As our previous publications (<a href='#section_IDRef'>Brinkmann et al. 2014a, 2014b, 2016</a>), and the publications by <a href='#section_IDRef'>Nichols et al. (1990)</a> and <a href='#section_IDRef'>Stadnicka et al. (2012)</a>, this model facilitates the prediction of the bioconcentration of neutral organic chemicals in fish. Furthermore, this new tool presented here, enables a multi-species application by including inter-and intra-specific variability in physiological parameters used for model parameterization.  \n",
    "\n",
    "To facilitate the use of this novel tool, we provide explanations and examples along with the executable program code. This notebook is divided in two parts:<br> \n",
    "<a href='#section_IDP1'>Part 1 - Multi-species PBTK model</a><br>\n",
    "<a href='#section_IDP2'>Part 2 - Analyzing results</a>\n",
    "\n",
    "For additional information on the model development and purpose, please refer to the original article and its supporting information: <a href='#section_IDRef'>Mangold-Döring et al. (submitted to ES&T in August 2020)</a>.  "
   ]
  },
  {
   "cell_type": "markdown",
   "metadata": {},
   "source": [
    "### Detailed summary of parameters and variables\n",
    "#### Definition of chemical-specific model inputs and/or variables\n",
    "Symbol|Explanation [unit]\n",
    "---|---\n",
    "log_Kow|logarithmic octanol-water partitioning coefficient [-]\n",
    "C_w|chemical concentration in inspired water[µg/L] <br>*note: equals C_exp if sim < expo, otherwise zero*\n",
    "C_exp|nominal exposure concentration [µg/L]\n",
    "temp|water temperature [degrees centigrade]\n",
    "Cox|dissolved oxygen concentration in water [mg O2/L]\n",
    "sim|simulation time [h]\n",
    "iter|iteration steps per hour [-]\n",
    "expo|exposure time [h] <br>*note: per default starting at the beginning of sim*\n",
    "\n",
    "\n",
    "#### Definition of species-specific model parameters and/or variables\n",
    "Symbol|Explanation [unit]\n",
    "---|---\n",
    "w_w|Body wet weight [kg]\n",
    "lipid|Total lipid content of fish [fraction of body weight]\n",
    "lipid_l|lipid content of lean tissue [fraction of body weight]\n",
    " | \n",
    "alpha_b|lipid content of blood tissue [fraction of body weight]\n",
    "alpha_f|lipid content of fat tissue [fraction of body weight]|\n",
    "alpha_k|lipid content of kidney tissue [fraction of body weight]\n",
    "alpha_l|lipid content of liver tissue [fraction of body weight]\n",
    "alpha_m|lipid content of muscle tissue [fraction of body weight]\n",
    "alpha_g|lipid content of gonad tissue [fraction of body weight]\n",
    " | \n",
    "gamma_b|water content of blood tissue [fraction of wet weight]\n",
    "gamma_f|water content of fat tissue [fraction of wet weight]\n",
    "gamma_k|water content of kidney tissue [fraction of wet weight]\n",
    "gamma_l|water content of liver tissue [fraction of wet weight]\n",
    "gamma_m|water content of muscle tissue [fraction of wet weight]\n",
    "gamma_g|water content of gonad tissue [fraction of wet weight]\n",
    " | \n",
    "V_l|volume of liver compartment [L]\n",
    "V_f|volume of fat compartment [L]\n",
    "V_m|volume of poorly perfused compartment [L]\n",
    "V_r|volume of richly perfused compartment [L]\n",
    "V_k|volume of kidney compartment [L]\n",
    "V_g|volume of gonad compartment [L]\n",
    " | \n",
    "Q_c|cardiac output per 1 kg fish [L/h]\n",
    "Q_l|blood flow to the liver compartment [L/h]\n",
    "Q_f|blood flow to the fat compartment [L/h]\n",
    "Q_m|blood flow to the poorly perfused compartment [L/h]\n",
    "Q_r|blood flow to the richly perfused compartment [L/h]\n",
    "Q_k|blood flow to the kidney compartment [L/h]\n",
    "Q_g|blood flow to the gonad compartment [L/h]\n",
    " | \n",
    "VO2|oxygen consumption rate per 1 kg fish [mg O2/h]\n",
    "Q_w|effective respiratory volume [L/h]    \n",
    " | \n",
    "P_bw|chemical blood:water partition coefficient [-]\n",
    "P_l|liver:blood partition coefficient of a chemical [-]\n",
    "P_f|fat:blood partition coefficient of a chemical [-]\n",
    "P_m|muscle:blood partition coefficient of a chemical [-]\n",
    "P_k|kidney:blood partition coefficient of a chemical [-]\n",
    "P_r|richly perfused tissue:blood partition coefficient of a chemical [-]\n",
    "P_g|gonad:blood partition coefficient of a chemical [-]\n",
    " | \n",
    "A_f|chemical amount in fat compartment [µg]\n",
    "A_m|chemical amount in poorly perfused compartment [µg]\n",
    "A_r|chemical amount in richly perfused compartment [µg]\n",
    "A_l|chemical amount in liver compartment [µg]\n",
    "A_k|chemical amount in kidney compartment [µg]\n",
    "A_g|chemical amount in gonad compartment [µg]\n",
    " | \n",
    "dA_f|change of Chemical amount in fat compartment [µg/h]\n",
    "dA_m|change of Chemical amount in poorly perfused compartment [µg/h]\n",
    "dA_r|change of Chemical amount in richly perfused compartment [µg/h]\n",
    "dA_l|change of Chemical amount in liver compartment [µg/h]\n",
    "dA_k|change of Chemical amount in kidney compartment [µg/h]\n",
    "dA_g|change of Chemical amount in gonad compartment [µg/h]\n",
    " | \n",
    "C_int|average concentration of the chemical in the whole organism [µg/kg]\n",
    "C_art|chemical concentration in arterial blood [µg/L]\n",
    "C_ven|chemical concentration in venous blood [µg/L]\n",
    "C_f|chemical concentration in fat [µg/L]\n",
    "C_m|chemical concentration in muscle [µg/L]\n",
    "C_r|chemical concentration in richly perfused compartment [µg/L]\n",
    "C_l|chemical concentration in liver [µg/L]\n",
    "C_k|chemical concentration in kidney [µg/L]\n",
    "C_g|chemical concentration in gonads [µg/L]"
   ]
  },
  {
   "cell_type": "markdown",
   "metadata": {},
   "source": [
    "<a id='section_IDP1'></a>\n",
    "# Part 1 - Multi-species PBTK model\n",
    "In the following sections you will find the code of the multi-species PBTK mode. To successfully run the model, seven consecutive steps are needed. The aim of each single step will be summarized in comment cells above each step. Additionally, more direct comments can be found as traditional comments within the code cells, commencing a ' **#** '.  \n",
    "\n",
    "Step 1 – <a href='#section_ID1'>Import packages</a> <br>\n",
    "Step 2 – <a href='#section_ID2'>Definition of the main classes of the model</a> <br>\n",
    "Step 3 – <a href='#section_ID3'>Parameterization of model objects</a> <br>\n",
    "Step 4 – <a href='#section_ID4'>Definition of the main functions</a> <br>\n",
    "Step 5 – <a href='#section_ID5'>Running the model</a> <br>\n",
    "Step 6 – <a href='#section_ID6'>Managing output</a> <br>\n",
    "Step 7 – <a href='#section_ID7'>Saving output</a> <br>\n",
    "\n",
    "Furthermore, we introduced colored boxes for these purposes: \n",
    "- **Blue boxes** contain notes and examples that are especially useful for first time use\n",
    "- **Red boxes** contain warnings, especially for document saving\n"
   ]
  },
  {
   "cell_type": "markdown",
   "metadata": {},
   "source": [
    "<a id='section_ID1'></a>\n",
    "## Step 1 - Import packages\n",
    "<div class=\"alert alert-block alert-info\">\n",
    "<b>Note:</b> Depending on your previous use of the Python packages listed below, you might need to install some of them before you can start. An easy way to do this within this Jupyter notebook, is to insert a new cell below, and use the following command for each missing package <i>XYZ</i>:\n",
    "    \n",
    "    !python -m pip install XYZ\n",
    "    \n",
    "</div>"
   ]
  },
  {
   "cell_type": "code",
   "execution_count": 4,
   "metadata": {},
   "outputs": [],
   "source": [
    "import math\n",
    "import numbers\n",
    "import time\n",
    "import numpy as np\n",
    "import pandas as pd\n",
    "import matplotlib.pyplot as plt\n",
    "%matplotlib inline\n",
    "import copy as co\n",
    "import scipy.stats as scst\n",
    "from scipy.optimize import curve_fit\n",
    "#from scipy.stats.mstats import gmean #AMD#\n",
    "import seaborn as sns\n",
    "import progressbar as pb\n"
   ]
  },
  {
   "cell_type": "markdown",
   "metadata": {},
   "source": [
    "<a id='section_ID2'></a>\n",
    "## Step 2 - Definition of the main classes of the model\n",
    "The class ***Exposure*** contains all necessary slots for exposure-specific parameters and variables."
   ]
  },
  {
   "cell_type": "code",
   "execution_count": 2,
   "metadata": {},
   "outputs": [],
   "source": [
    "class Exposure:\n",
    "    def __init__(self, name, description, chemical, log_kow, C_w, C_exp, temp, C_ox, sim, iteration, expo):\n",
    "        self.name = name\n",
    "        self.description = description\n",
    "        self.chemical = chemical                     # name of the chemical used in the experiment\n",
    "        self.log_kow = log_kow                       # log Kow of the chemical\n",
    "        self.C_w = C_w                               # chemical concentration in inspired water [µg/L], equals C_exp if sim < expo, otherwise zero \n",
    "        self.C_exp = C_exp                           # nominal exposure concentration [µg/L]\n",
    "        self.temp = temp                             # water temperature [degrees centigrade]\n",
    "        self.C_ox = C_ox                             # dissolved oxygen concentration in water [mg/L]\n",
    "        self.sim = sim                               # simulation time [h]\n",
    "        self.iteration = iteration                   # iteration steps per hour [-]\n",
    "        self.expo = expo                             # exposure time, per default starting at the beginning of sim [h]"
   ]
  },
  {
   "cell_type": "markdown",
   "metadata": {},
   "source": [
    "The class ***Species*** contains all necessary slots for species-specific parameters and variables."
   ]
  },
  {
   "cell_type": "code",
   "execution_count": 3,
   "metadata": {},
   "outputs": [],
   "source": [
    "class Species:\n",
    "    def __init__(self, name, scientific_name, default_temp, w_w, lipid, lipid_l, alpha_b, alpha_f, alpha_k, alpha_l, alpha_m, alpha_g, gamma_b, gamma_f, gamma_k,\n",
    "                 gamma_l, gamma_m, gamma_g, V_l, V_f, V_m, V_r, V_k, V_g, Q_c, Q_l, Q_f, Q_m, Q_r, Q_k, Q_g, VO2, Q_w, P_bw, P_l, P_f, P_m, P_k, P_r, P_g, A_f, A_m, A_r,\n",
    "                 A_l, A_k, A_g, C_int, C_art, C_ven, C_f, C_m, C_r, C_l, C_k, C_g):               \n",
    "        self.name = name                            # common name of species\n",
    "        self.scientific_name = scientific_name      # scientific name of species\n",
    "        self.default_temp = default_temp            # default temperature of exposure water [degrees centigrade], fallback value in case not specified in exposure object\n",
    "        self.w_w = w_w                              # whole-body wet weight [kg]  \n",
    "        self.lipid = lipid                          # total lipid content of fish [fraction of body weight]\n",
    "        self.lipid_l = lipid_l                      # lipid content of lean tissue [fraction of wet weight]\n",
    "        self.alpha_b = alpha_b                      # lipid content of blood tissue [fraction of wet weight]\n",
    "        self.alpha_f = alpha_f                      # lipid content of fat tissue [fraction of wet weight]\n",
    "        self.alpha_k = alpha_k                      # lipid content of kidney tissue [fraction of wet weight]\n",
    "        self.alpha_l = alpha_l                      # lipid content of liver tissue [fraction of wet weight]\n",
    "        self.alpha_m = alpha_m                      # lipid content of muscle tissue [fraction of wet weight]\n",
    "        self.alpha_g = alpha_g                      # lipid content of gonad tissue [fraction of wet weight]\n",
    "        self.gamma_b = gamma_b                      # water content of blood tissue [fraction of wet weight]\n",
    "        self.gamma_f = gamma_f                      # water content of fat tissue [fraction of wet weight]\n",
    "        self.gamma_k = gamma_k                      # water content of kidney tissue [fraction of wet weight]\n",
    "        self.gamma_l = gamma_l                      # water content of liver tissue [fraction of wet weight]\n",
    "        self.gamma_m = gamma_m                      # water content of muscle tissue [fraction of wet weight]\n",
    "        self.gamma_g = gamma_g                      # water content of gonad tissue [fraction of wet weight]\n",
    "        self.V_l = V_l                              # volume of liver compartment [L]\n",
    "        self.V_f = V_f                              # volume of fat compartment [L]\n",
    "        self.V_m = V_m                              # volume of poorly perfused compartment [L]\n",
    "        self.V_r = V_r                              # volume of richly perfused compartment [L]\n",
    "        self.V_k = V_k                              # volume of kidney compartment [L]\n",
    "        self.V_g = V_g                              # volume of gonad compartment [L]\n",
    "        self.Q_c = Q_c                              # cardiac output for 1 kg fish [L/h]\n",
    "        self.Q_l = Q_l                              # blood flow to the liver compartment [L/h]\n",
    "        self.Q_f = Q_f                              # blood flow to the fat compartment [L/h]\n",
    "        self.Q_m = Q_m                              # blood flow to the poorly perfused compartment [L/h]\n",
    "        self.Q_r = Q_r                              # blood flow to the richly perfused compartment [L/h]\n",
    "        self.Q_k = Q_k                              # blood flow to the kidney compartment [L/h]\n",
    "        self.Q_g = Q_g                              # blood flow to the gonad compartment [L/h]\n",
    "        self.VO2 = VO2                              # oxygen consumption rate for 1 kg fish [mg O2/h]\n",
    "        self.Q_w = Q_w                              # effective respiratory volume [L/h]\n",
    "        self.P_bw = P_bw                            # chemical blood:water partition coefficient\n",
    "        self.P_l = P_l                              # liver:blood partition coefficient of a chemical [-]\n",
    "        self.P_f = P_f                              # fat:blood partition coefficient of a chemical [-]\n",
    "        self.P_m = P_m                              # muscle:blood partition coefficient of a chemical [-]\n",
    "        self.P_k = P_k                              # kidney:blood partition coefficient of a chemical [-]\n",
    "        self.P_r = P_r                              # richly perfused tissue:blood partition coefficient of a chemical [-]\n",
    "        self.P_g = P_g                              # gonad:blood partition coefficient of a chemical [-]\n",
    "        self.A_f = A_f                              # chemical amount in fat compartment [µg]\n",
    "        self.A_m = A_m                              # chemical amount in poorly perfused compartment [µg]\n",
    "        self.A_r = A_r                              # chemical amount in richly perfused compartment [µg]\n",
    "        self.A_l = A_l                              # chemical amount in liver compartment [µg]\n",
    "        self.A_k = A_k                              # chemical amount in kidney compartment [µg]\n",
    "        self.A_g = A_g                              # chemical amount in gonad compartment [µg]\n",
    "        self.C_int = C_int                          # average concentration of the chemical in the whole organism [µg]\n",
    "        self.C_art = C_art                          # chemical concentration in arterial blood [µg/L]\n",
    "        self.C_ven = C_ven                          # chemical concentration in venous blood [µg/L]\n",
    "        self.C_f = C_f                              # chemical concentration in fat [µg/L]\n",
    "        self.C_m = C_m                              # chemical concentration in muscle [µg/L]\n",
    "        self.C_r = C_r                              # chemical concentration in richly perfused compartment [µg/L]\n",
    "        self.C_l = C_l                              # chemical concentration in liver [µg/L]\n",
    "        self.C_k = C_k                              # chemical concentration in kidney [µg/L]\n",
    "        self.C_g = C_g                              # chemical concentration in gonad [µg/L]"
   ]
  },
  {
   "cell_type": "markdown",
   "metadata": {},
   "source": [
    "<a id='section_ID3'></a>\n",
    "## Step 3 - Parameterization of model objects \n",
    "Here, we specify the values for the parameters of the **chemical object**, as defined in the Exposure class above.<br><br> \n",
    "The **default** object *generic_chemical* of the class *Exposure* represents the parameterization of a generic chemical for model testing."
   ]
  },
  {
   "cell_type": "code",
   "execution_count": 4,
   "metadata": {},
   "outputs": [],
   "source": [
    "generic_chemical = Exposure(\"test object\", \"test exposure with generic chemical\", \"generic\", 3.45, float('nan'), 5, float('nan'), float('nan'), 600, 1000, 300)"
   ]
  },
  {
   "cell_type": "markdown",
   "metadata": {},
   "source": [
    "<div class=\"alert alert-block alert-info\">\n",
    "<b>Note:</b> You can check the assigned values of object parameters by creating a dictionary from the object by inserting a new cell below, and using the following command:   \n",
    "    \n",
    "    generic_chemical.__dict__\n",
    "</div>"
   ]
  },
  {
   "cell_type": "markdown",
   "metadata": {},
   "source": [
    "Next, to create the **species object**, we will specify the values for the parameters defined in the *Species* class above. For the multiple species application, we create the species object as a wrapper for dynamic resampling of statistical parameter distributions from Canadian freshwater fishes. Thus, instead of single parameter values, this object contains **tuple as attributes**, each of which describes the type of statistical distribution for the random number generator, i.e. normal, gamma, or uniform (*tuple[0]*), the center parameter (*tuple[1]*), a shape parameter (*tuple[2]*), and the minimal (*tuple[3]*) and maximal (*tuple[4]*) value.<br><br>The **default** object *generic_species* contains tuples representing the parameter distribution across **all freshwater fishes included in the database**. "
   ]
  },
  {
   "cell_type": "code",
   "execution_count": 5,
   "metadata": {},
   "outputs": [],
   "source": [
    "generic_species = Species(\n",
    "        \"generic species\",                                # object name\n",
    "        \"canadian freshwater fishes\",                     # scientific_name\n",
    "        ['normal', 15, 1, 0, 20],                         # default_temp \n",
    "        ['normal', 0.1, 0.01, 0, 0.2],                    # w_w\n",
    "        ['uniform', 0.0116, 0.248],                       # lipid\n",
    "        [float('nan')],                                   # lipid_l\n",
    "                          \n",
    "        ['gamma', 2.03871, 0.00241, 0.0059, 0.019],       # alpha_b\n",
    "        ['normal', 0.82139, 0.08694, 0.6551, 1],          # alpha_f \n",
    "        ['gamma', 0.65251, 0.09124, 0.003, 0.2487],       # alpha_k\n",
    "        ['gamma', 0.90066, 0.17509, 0.0175, 0.538],       # alpha_l \n",
    "        ['gamma', 0.3236, 0.68256, 0.0028, 0.2416],       # alpha_m\n",
    "        ['gamma', 0.87041, 0.02999, 0.0088, 0.1184],      # alpha_g\n",
    "                          \n",
    "        ['normal', 0.839, 0.0839, 0, 1],                  # gamma_b\n",
    "        ['normal', 0.050, 0.005, 0, 1],                   # gamma_f\n",
    "        ['normal', 0.789, 0.0789, 0, 1],                  # gamma_k\n",
    "        ['normal', 0.746, 0.01, 0, 1],                    # gamma_l\n",
    "        ['normal', 0.769, 0.01, 0, 1],                    # gamma_m\n",
    "        ['normal', 0.769, 0.01, 0, 1],                    # gamma_g\n",
    "                          \n",
    "        ['gamma', 2.44742, 0.00877, 0.0059, 0.086],       # V_l\n",
    "        [float('nan')],                                   # V_f\n",
    "        ['uniform', 0.741, 0.9395],                       # V_m \n",
    "        ['gamma', 14.27458, 0.00472, 0.0147, 0.11],       # V_r\n",
    "        ['gamma', 1.44424, 0.00244, 0.0021, 0.0131],      # V_k\n",
    "        ['gamma', 0.78039, 0.06614, 0.0006, 0.4127],      # V_g       \n",
    "                          \n",
    "        ['normal', 1.4285, 0.43062, 0.4414, 3.3692],      # Q_c \n",
    "        ['gamma', 0.60211, 0.03493, 0.00005, 0.1717],     # Q_l\n",
    "        ['uniform', 0.0001, 0.112],                       # Q_f\n",
    "        ['gamma', 8.59983, 0.05257, 0.44, 0.9938],        # Q_m\n",
    "        ['gamma', 0.70126, 0.11419, 0.0042, 0.526],       # Q_r\n",
    "        ['uniform', 0.0015, 0.11],                        # Q_k\n",
    "        ['uniform', 0.00002, 0.0112],                     # Q_g\n",
    "                          \n",
    "        ['gamma', 9.51401, 0.32747, 0.7685, 6.3334],      # VO2\n",
    "        [float('nan')],                                   # Q_w                  \n",
    "                          \n",
    "        [float('nan')],                                   # P_bw                  \n",
    "        [float('nan')],                                   # P_l\n",
    "        [float('nan')],                                   # P_f                  \n",
    "        [float('nan')],                                   # P_m\n",
    "        [float('nan')],                                   # P_k                  \n",
    "        [float('nan')],                                   # P_r\n",
    "        [float('nan')],                                   # P_g\n",
    "                          \n",
    "        [0],                                              # A_f\n",
    "        [0],                                              # A_m                                              \n",
    "        [0],                                              # A_r                                             \n",
    "        [0],                                              # A_l                                             \n",
    "        [0],                                              # A_k                                         \n",
    "        [0],                                              # A_g\n",
    "                          \n",
    "        [0],                                              # C_int\n",
    "        [0],                                              # C_art\n",
    "        [0],                                              # C_ven\n",
    "        [0],                                              # C_f\n",
    "        [0],                                              # C_m\n",
    "        [0],                                              # C_r\n",
    "        [0],                                              # C_l\n",
    "        [0],                                              # C_k\n",
    "        [0],                                              # C_g\n",
    "\n",
    "        )"
   ]
  },
  {
   "cell_type": "markdown",
   "metadata": {},
   "source": [
    "<a id='section_ID4'></a>\n",
    "## Step 4 - Definition of the main functions\n",
    "### Initialization functions\n",
    "The functions *initialize_exposure* and *initialize_species* prepare the *Exposure* and *Species* objects for subsequent use in the main model function *run_model*. The functions are executed from within the *run_model* function.\n"
   ]
  },
  {
   "cell_type": "code",
   "execution_count": 6,
   "metadata": {},
   "outputs": [],
   "source": [
    "def initialize_exposure(exposure, species):\n",
    "    \n",
    "    ### Checking for missing parameterization of exposure temperature and dissolved oxygen concentration in the exposure scenario.\n",
    "    #1# If no exposure temperature was defined, the default temperature of your species will be used.\n",
    "    if math.isnan(exposure.temp):\n",
    "        exposure.temp = species.default_temp\n",
    "        \n",
    "        #1.1# If also, no dissolved oxygen concentration of water was provided, the value will be calculated according to the Weiss equation.\n",
    "        if math.isnan(exposure.C_ox):\n",
    "            exposure.C_ox = 1.42905 * math.exp(-173.4292 + 249.6339 * (100 / (exposure.temp + 273.15)) + 143.3483 * math.log((exposure.temp + 273.15) / 100) - 21.8497 * ((exposure.temp + 273.15) / 100))\n",
    "            \n",
    "        else:pass\n",
    "        \n",
    "    #2# If no dissolved oxygen concentration of water was provided, the value will be calculated according to the Weiss equation.   \n",
    "    elif math.isnan(exposure.C_ox):\n",
    "        exposure.C_ox = 1.42905 * math.exp(-173.4292 + 249.6339 * (100 / (exposure.temp + 273.15)) + 143.3483 * math.log((exposure.temp + 273.15) / 100) - 21.8497 * ((exposure.temp + 273.15) / 100))\n",
    "    \n",
    "    else:pass\n",
    "    \n",
    "    ### Assigning chemical concentration in inspired water, which equals C_exp if sim < expo, otherwise zero\n",
    "    exposure.C_w = exposure.C_exp\n",
    "    \n",
    "    return exposure\n",
    "\n",
    "\n",
    "def initialize_species(species, exposure):\n",
    "    \n",
    "    ### Scaling of cardiac output and oxygen consumption rate:\n",
    "    #1# Temperature and allometric scaling of Q_c to assigned temperature and weight from initialization\n",
    "    species.Q_c = (species.Q_c*species.w_w) * math.pow(1.805, (exposure.temp - 15)/10) \n",
    "    \n",
    "    #2# Temperature scaling of VO2 to assigned temperature from initialization, note: since the value is sampled on log10 scaled, we transfer it back here\n",
    "    species.VO2 = 10 ** (species.VO2 * math.pow(1.805, (exposure.temp - 15)/10)) \n",
    "    \n",
    "    #3# Allometric scaling of VO2 to assigned weight from initialization\n",
    "    species.Q_w = (species.VO2 / (exposure.C_ox - 0.2 * exposure.C_ox)) * math.pow(species.w_w, 0.8) \n",
    "    \n",
    "    \n",
    "    ### Calculation and control for mass balance of tissue composition: \n",
    "    #1# In this block we check if assigned lipid contents to tissue compartments are within boundaries to ensure tissue composition adds up to 1.     \n",
    "    if species.lipid   <=0 : species.lipid   = np.random.uniform(0.0116, 0.248)  #total lipid content\n",
    "    if species.alpha_b <=0 or species.alpha_b>(1-0.12): species.alpha_b = np.random.uniform(0.0059, 0.019)  #blood lipid content\n",
    "    if species.alpha_f <=0 or species.alpha_f>(1-0.05): species.alpha_f = np.random.uniform(0.6551, 1-0.05) #fat lipid content\n",
    "    if species.alpha_k <=0 or species.alpha_k>(1-0.15): species.alpha_k = np.random.uniform(0.0477, 0.2487) #kidney lipid content\n",
    "    if species.alpha_l <=0 or species.alpha_l>(1-0.23): species.alpha_l = np.random.uniform(0.0175, 0.538)  #liver lipid content                 \n",
    "    if species.alpha_m <=0 or species.alpha_m>(1-0.20): species.alpha_m = np.random.uniform(0.0028, 0.2416) #ppt lipid content   \n",
    "    if species.alpha_g <=0 or species.alpha_g>(1-0.23): species.alpha_g = np.random.uniform(0.0088, 0.1184) #gonads total lipid content                   \n",
    "    \n",
    "    #2# Here, we make tissue compositions result in a sum of 1. The water content is calculated by subtracting the lipid content the solid matter fraction (calculated from water and fat content of previous model inputs) \n",
    "    species.gamma_b = 1-species.alpha_b-0.12\n",
    "    species.gamma_f = 1-species.alpha_f-0.05\n",
    "    species.gamma_k = 1-species.alpha_k-0.15\n",
    "    species.gamma_l = 1-species.alpha_l-0.23\n",
    "    species.gamma_m = 1-species.alpha_m-0.20\n",
    "    species.gamma_g = 1-species.alpha_g-0.23\n",
    "    \n",
    "    \n",
    "    ### Calculation and control for mass balance of tissue fractions:  \n",
    "    #1# To ensure mass balance for tissue fractions, we calculate all tissue fractions result in a sum of 1 following random sampling\n",
    "    species.V_m = 1 - (species.V_l + species.V_g + species.V_r + species.V_k ) \n",
    "    \n",
    "    #2# Scaling of tissue volumes to assigned weight from initialization.\n",
    "    species.V_l = species.V_l * species.w_w\n",
    "    species.V_f = species.V_f * species.w_w \n",
    "    species.V_m = species.V_m * species.w_w\n",
    "    species.V_r = species.V_r * species.w_w\n",
    "    species.V_k = species.V_k * species.w_w\n",
    "    species.V_g = species.V_g * species.w_w\n",
    "    \n",
    "    #3# Calculation of lipid content of lean tissue based on volumes\n",
    "    species.lipid_l = (species.V_l * species.alpha_l + species.V_r * species.alpha_b + species.V_m * species.alpha_m + species.V_k * species.alpha_k + species.V_g * species.alpha_g) / (species.V_l + species.V_r + species.V_m + species.V_k + species.V_g)\n",
    "    \n",
    "    #4# Calculation of volume of fat compartment based on lipid content of lean tissue\n",
    "    species.V_f = species.w_w * ((species.lipid - species.lipid_l) / (species.alpha_f - species.lipid_l))\n",
    "    \n",
    "    #5# Here, we make tissue fractions result in a sum of 1 by calculating the volume of the poorly perfused compartment as the remaining fraction.\n",
    "    species.V_m = species.w_w  - (species.V_l + species.V_f + species.V_g + species.V_r + species.V_k)\n",
    "  \n",
    "    \n",
    "    ### Calculation and control for mass balance of blood flows: \n",
    "    #1# To ensure mass balance for blood flows, we calculate all tissue blood flows to result in a sum of 1 following random sampling\n",
    "    species.Q_m = 1 - (species.Q_l + species.Q_f + species.Q_r + species.Q_k + species.Q_g) \n",
    "    \n",
    "    #2# Calculation of blood flows to tissue compartments based on assigned cardiac output\n",
    "    species.Q_l = species.Q_l * species.Q_c\n",
    "    species.Q_f = species.Q_f * species.Q_c\n",
    "    species.Q_m = species.Q_m * species.Q_c\n",
    "    species.Q_r = species.Q_r * species.Q_c\n",
    "    species.Q_k = species.Q_k * species.Q_c\n",
    "    species.Q_g = species.Q_g * species.Q_c\n",
    "  \n",
    "    \n",
    "    #3# Calculation of partitioning coefficients\n",
    "    species.P_bw = math.pow(10, (0.72 * exposure.log_kow + 1.04 * math.log10(species.alpha_b) + 0.86) + species.gamma_b)\n",
    "    species.P_l = (math.pow(10, (0.72 * exposure.log_kow + 1.04 * math.log10(species.alpha_l) + 0.86)) + species.gamma_l) / species.P_bw\n",
    "    species.P_f = (math.pow(10, (0.72 * exposure.log_kow + 1.04 * math.log10(species.alpha_f) + 0.86)) + species.gamma_f) / species.P_bw\n",
    "    species.P_m = (math.pow(10, (0.72 * exposure.log_kow + 1.04 * math.log10(species.alpha_m) + 0.86)) + species.gamma_m) / species.P_bw \n",
    "    species.P_k = (math.pow(10, (0.72 * exposure.log_kow + 1.04 * math.log10(species.alpha_k) + 0.86)) + species.gamma_k) / species.P_bw \n",
    "    species.P_g = (math.pow(10, (0.72 * exposure.log_kow + 1.04 * math.log10(species.alpha_g) + 0.86)) + species.gamma_g) / species.P_bw\n",
    "    species.P_r = species.P_l      \n",
    "           \n",
    "    return species"
   ]
  },
  {
   "cell_type": "markdown",
   "metadata": {},
   "source": [
    "### Model function\n",
    "The *run_model* function contains the model equations to calculate the chemicals concentration in the different model compartments. This is realized with ordinary differential equations (ODEs), solved with the Euler’s methods. For an overview of the equations programmed here, please refer to the original article and its supporting information: <a href='#section_IDRef'>Mangold-Döring et al. (submitted to ES&T in August 2020)</a>. \n"
   ]
  },
  {
   "cell_type": "code",
   "execution_count": 7,
   "metadata": {},
   "outputs": [],
   "source": [
    "def run_model(exposure, species, ex_id):\n",
    "    \n",
    "    ### Initialize the objects   \n",
    "    exposure = initialize_exposure(co.copy(exposure), co.copy(species))\n",
    "    species = initialize_species(co.copy(species), co.copy(exposure))\n",
    "    \n",
    "    #1# Save drawn value combinations for return function \n",
    "    species_collection = species\n",
    "        \n",
    "    #2# Checking for a starvation scenario, where the volume of the fat compartment is equal or less than zero.\n",
    "    if species.V_f <= 0:\n",
    "        return None   \n",
    "  \n",
    "    ### Initialize the main data frame\n",
    "    time  = 0\n",
    "    C_int = species.C_int\n",
    "    C_art = species.C_art\n",
    "    C_ven = species.C_ven\n",
    "    C_m =   species.C_m\n",
    "    C_l =   species.C_l\n",
    "    C_r =   species.C_r\n",
    "    C_k =   species.C_k\n",
    "    C_f =   species.C_f\n",
    "    C_g =   species.C_g\n",
    "  \n",
    "    d = {'ex_id': [ex_id],'time': [time], 'C_int': [C_int], 'C_art': [C_art], 'C_ven': [C_ven], 'C_m': [C_m], 'C_l': [C_l], 'C_r': [C_r], 'C_k': [C_k], 'C_f': [C_f], 'C_g': [C_g]}\n",
    "    results_data = pd.DataFrame(d)\n",
    "  \n",
    "    ### Main loop for each hour\n",
    "    for i in range(0, exposure.sim):\n",
    "    \n",
    "        ### Loops for each iteration per hour\n",
    "        for j in range(1, exposure.iteration):\n",
    "      \n",
    "            ### Calculating the change of chemical masses in µg in different organs and the whole body\n",
    "            dA_f = species.Q_f * (species.C_art - (species.A_f / (species.V_f * species.P_f)))\n",
    "            species.A_f = species.A_f + dA_f / exposure.iteration         # fat\n",
    "            \n",
    "            dA_g = species.Q_g * (species.C_art - (species.A_g / (species.V_g * species.P_g)))\n",
    "            species.A_g = species.A_g + dA_g / exposure.iteration         # gonad\n",
    "            \n",
    "            dA_m = species.Q_m * (species.C_art - (species.A_m / (species.V_m * species.P_m)))\n",
    "            species.A_m = species.A_m + dA_m / exposure.iteration         # muscle/poorly perfused tissues\n",
    "      \n",
    "            dA_r = species.Q_r * (species.C_art - (species.A_r / (species.V_r * species.P_r)))\n",
    "            species.A_r = species.A_r + dA_r / exposure.iteration         # richly perfused tissues compartment\n",
    "      \n",
    "            dA_l = species.Q_r * (species.A_r / (species.V_r * species.P_r)) + species.Q_l * species.C_art - (species.Q_r + species.Q_l) * (species.A_l / (species.V_l * species.P_l))\n",
    "            species.A_l = species.A_l + dA_l / exposure.iteration         # liver \n",
    "            \n",
    "            dA_k = 0.6 * species.Q_m * (species.A_m / (species.V_m * species.P_m)) + species.Q_k * species.C_art - (0.6 * species.Q_m + species.Q_k) * (species.A_k / (species.V_k * species.P_k))\n",
    "            species.A_k = species.A_k + dA_k / exposure.iteration         # kidney\n",
    "            \n",
    "            species.C_int = (species.A_f + species.A_g + species.A_m + species.A_r + species.A_l + species.A_k) / (1000 * species.w_w)\n",
    "                                                                          # whole-body\n",
    "            \n",
    "            ### Chemical concentrations in different compartments\n",
    "            species.C_f = species.A_f / species.V_f / 1000\n",
    "            species.C_g = species.A_g / species.V_g / 1000\n",
    "            species.C_m = species.A_m / species.V_m / 1000\n",
    "            species.C_r = species.A_r / species.V_r / 1000\n",
    "            species.C_l = species.A_l / species.V_l / 1000\n",
    "            species.C_k = species.A_k / species.V_k / 1000\n",
    "     \n",
    "            ### Check if simulation time exceed exposure time\n",
    "            if i > exposure.expo:\n",
    "                # Chemical concentration in inspired water, equals C_exp if sim < expo, otherwise zero \n",
    "                exposure.C_w = 0  \n",
    "                    \n",
    "            ### Calculate concentration in arterial blood   \n",
    "            species.C_art = min(species.Q_w,(species.Q_c * species.P_bw)) * ((exposure.C_w - (species.C_ven / species.P_bw)) / species.Q_c) + species.C_ven\n",
    "            \n",
    "            ### Calculate concentration in venous blood  \n",
    "            species.C_ven = ((species.Q_f * (species.A_f / (species.V_f * species.P_f))) + (species.Q_g * (species.A_g / (species.V_g * species.P_g))) + (0.4 * species.Q_m * (species.A_m / (species.V_m * species.P_m))) + (0.6 * species.Q_m + species.Q_k) * (species.A_k / (species.V_k * species.P_k)) + (species.Q_r * (species.A_r / (species.V_r * species.P_r))) + (species.Q_l * (species.A_l / (species.V_l * species.P_l)))) / species.Q_c\n",
    "            \n",
    "        ### Write into main data frame       \n",
    "        time  = i\n",
    "        C_int = species.C_int\n",
    "        C_art = species.C_art\n",
    "        C_ven = species.C_ven\n",
    "        C_m =   species.C_m\n",
    "        C_l =   species.C_l\n",
    "        C_r =   species.C_r\n",
    "        C_k =   species.C_k\n",
    "        C_f =   species.C_f\n",
    "        C_g =   species.C_g\n",
    "    \n",
    "        results_appendix = {'ex_id':[ex_id], 'time': [time+1], 'C_int': [C_int], 'C_art': [C_art], 'C_ven': [C_ven], 'C_m': [C_m], 'C_l': [C_l], 'C_r': [C_r], 'C_k': [C_k], 'C_f': [C_f], 'C_g': [C_g]}\n",
    "        results_appendix = pd.DataFrame(data=results_appendix)\n",
    "        results_data = results_data.append(results_appendix, ignore_index=True)\n",
    "    \n",
    "    return results_data, species_collection"
   ]
  },
  {
   "cell_type": "markdown",
   "metadata": {},
   "source": [
    "### Resampling function\n",
    "The *resampling* function generates a user-defined number of random virtual species objects from user-defined statistical distributions (if not changed, the default is used), runs the PBTK model on these objects and saves the data in a multi-dimensional NumPy array.\n"
   ]
  },
  {
   "cell_type": "code",
   "execution_count": 8,
   "metadata": {},
   "outputs": [],
   "source": [
    "def resampling(iterations, exposure, species):\n",
    "    \n",
    "    ### Initialize data frame collection and list of species objects\n",
    "    results_collection = []\n",
    "    virtual_species_collection = []\n",
    "    \n",
    "    ### Initialize the progress bar\n",
    "    wid = [pb.Bar(), pb.ETA()] ## estimates the time of arrival\n",
    "    pbar = pb.ProgressBar(maxval=iterations,widgets=wid).start()\n",
    "    \n",
    "    ### Loop for each iteration, or experiment   \n",
    "    for i in range(0, iterations):\n",
    "                \n",
    "        virtual_species_collection.append(co.copy(species))\n",
    "        \n",
    "        ### Resampling parameters of species class for initialization from their underlying probability density function      \n",
    "        for k,v in virtual_species_collection[i].__dict__.items():   #k= keys, v=values\n",
    "            \n",
    "            #1# For parameters following a normal distribution\n",
    "            if virtual_species_collection[i].__dict__[k][0] == 'normal':\n",
    "                virtual_species_collection[i].__dict__[k] = np.random.normal(virtual_species_collection[i].__dict__[k][1], virtual_species_collection[i].__dict__[k][2])\n",
    "            \n",
    "            #2# For parameters following a gamma distribution\n",
    "            elif virtual_species_collection[i].__dict__[k][0] == 'gamma':\n",
    "                low = virtual_species_collection[i].__dict__[k][3]\n",
    "                high = virtual_species_collection[i].__dict__[k][4]\n",
    "                temp = np.random.gamma(virtual_species_collection[i].__dict__[k][1], virtual_species_collection[i].__dict__[k][2])\n",
    "                ### If assigned value is lower than lower bound or higher than upper bound, draw again\n",
    "                while low > temp or temp > high:\n",
    "                    temp = np.random.gamma(virtual_species_collection[i].__dict__[k][1], virtual_species_collection[i].__dict__[k][2])\n",
    "                virtual_species_collection[i].__dict__[k] = temp\n",
    "           \n",
    "            #3# For parameters following a uniform distribution\n",
    "            elif virtual_species_collection[i].__dict__[k][0] == 'uniform':\n",
    "                virtual_species_collection[i].__dict__[k] = np.random.uniform(virtual_species_collection[i].__dict__[k][1], virtual_species_collection[i].__dict__[k][2])             \n",
    "            \n",
    "            #4# For parameters which are not assigned a distribution, but a single value\n",
    "            else:\n",
    "                virtual_species_collection[i].__dict__[k] = virtual_species_collection[i].__dict__[k][0]\n",
    "                \n",
    "        ### Run multi-species model\n",
    "        experiment_result = run_model(exposure, virtual_species_collection[i], i)  #i used as experiment id (ex_id)\n",
    "        \n",
    "        ### Checking the model runs for empty objects. Append none-empty objects to results collection. \n",
    "        if experiment_result is not None:  \n",
    "            results_collection.append(experiment_result) \n",
    "            ### Update progress bar\n",
    "            pbar.update(i+1)\n",
    "            \n",
    "    ### Finish progress bar    \n",
    "    pbar.finish()    \n",
    "    \n",
    "    print('A total number of ' + str(len(results_collection)) + '/' + str(iterations) + ' virtual species objects was generated.')     \n",
    "    \n",
    "    return results_collection"
   ]
  },
  {
   "cell_type": "markdown",
   "metadata": {},
   "source": [
    "<a id='section_ID5'></a>\n",
    "## Step 5 - Running the model\n",
    "\n",
    "To run the model, you need to specify the **number of simulations**, the **chemical object** and the **species object** that you want to simulate. The model run will be stored in a \"new_prediction\" object that is further analyzed in the *Part 2 - Analyzing results* section below. \n"
   ]
  },
  {
   "cell_type": "code",
   "execution_count": 9,
   "metadata": {},
   "outputs": [],
   "source": [
    "### Specify variables for model run\n",
    "\n",
    "date          ='20200730'           # Date, to be used for labeling your output files: JJJJMMDD\n",
    "runs          = 200                 # Number of simulations\n",
    "substance     = generic_chemical    # Chemical object you want to simulate\n",
    "species_class = generic_species     # Species object you want to simulate"
   ]
  },
  {
   "cell_type": "markdown",
   "metadata": {},
   "source": [
    "<div class=\"alert alert-block alert-info\">\n",
    "<b>Note:</b> Default settings with 200 model simulations using the default objects for both, chemicals and species: \n",
    "    \n",
    "    new_prediction = resampling(200, generic_chemical, generic_species)\n",
    "</div>"
   ]
  },
  {
   "cell_type": "code",
   "execution_count": 10,
   "metadata": {
    "scrolled": true
   },
   "outputs": [
    {
     "name": "stderr",
     "output_type": "stream",
     "text": [
      "|################################################################|Time: 0:09:09\r"
     ]
    },
    {
     "name": "stdout",
     "output_type": "stream",
     "text": [
      "A total number of 149/200 virtual species objects was generated.\n"
     ]
    },
    {
     "name": "stderr",
     "output_type": "stream",
     "text": [
      "\n"
     ]
    }
   ],
   "source": [
    "### Run model trough resampling function\n",
    "new_prediction = resampling(runs, substance, species_class)  "
   ]
  },
  {
   "cell_type": "markdown",
   "metadata": {},
   "source": [
    "<a id='section_ID6'></a>\n",
    "## Step 6 – Managing output\n",
    "Save the model 'tuples' in two lists for further inspections. The ***output_result*** will contain the PBTK model results (i.e., the chemical amounts calculated for each compartment) and the ***output_species*** will contain the values assigned to the virtual species object within the resampling function (i.e., the parameters used to inform the model).\n"
   ]
  },
  {
   "cell_type": "code",
   "execution_count": 11,
   "metadata": {},
   "outputs": [
    {
     "name": "stdout",
     "output_type": "stream",
     "text": [
      "Prediction 7 had NaN values for C_int, therefore not included in output.\n",
      "Prediction 43 had NaN values for C_int, therefore not included in output.\n",
      "Prediction 48 had NaN values for C_int, therefore not included in output.\n",
      "Prediction 57 had NaN values for C_int, therefore not included in output.\n",
      "Prediction 71 had NaN values for C_int, therefore not included in output.\n",
      "Prediction 91 had NaN values for C_int, therefore not included in output.\n",
      "Prediction 113 had NaN values for C_int, therefore not included in output.\n",
      "Prediction 144 had NaN values for C_int, therefore not included in output.\n",
      "Prediction 152 had NaN values for C_int, therefore not included in output.\n",
      "Prediction 154 had NaN values for C_int, therefore not included in output.\n",
      "Prediction 159 had NaN values for C_int, therefore not included in output.\n",
      "Prediction 168 had NaN values for C_int, therefore not included in output.\n",
      "Prediction 182 had NaN values for C_int, therefore not included in output.\n"
     ]
    }
   ],
   "source": [
    "output_results_list = []\n",
    "output_species_list = []\n",
    "output_id_list = []\n",
    "\n",
    "### Remove the 'None' objects from predictions\n",
    "for i in range(len(new_prediction)):        #loop through the predictions \n",
    "    \n",
    "    ### Catch unrealistic predictions resulting from:     \n",
    "    #1# Empty objects \n",
    "    if new_prediction[i] is None: \n",
    "        print('Prediction ' +str(new_prediction[i][0].ex_id[0])+ ' was None, therefore not included in output.') \n",
    "    \n",
    "    #2# NaN values in C_int \n",
    "    elif np.isnan(new_prediction[i][0].C_int).any():\n",
    "        print('Prediction ' +str(new_prediction[i][0].ex_id[0])+ ' had NaN values for C_int, therefore not included in output.')\n",
    "    \n",
    "    #3# infinity for C_int\n",
    "    elif np.isinf(new_prediction[i][0].C_int).any():\n",
    "        print('Prediction ' +str(new_prediction[i][0].ex_id[0])+ ' had infinity values for C_int, therefore not included in output.')\n",
    "    \n",
    "    #4# negative C_int\n",
    "    elif new_prediction[i][0].C_int.any() <0:\n",
    "        print('Prediction ' +str(new_prediction[i][0].ex_id[0])+ ' had negative values for C_int, therefore not included in output.')   \n",
    "    \n",
    "    \n",
    "    ### Save results \n",
    "    else: \n",
    "        result_df = new_prediction[i][0]               #save result_df \n",
    "        output_results_list.append(result_df)          #append result_df to output_results_list\n",
    "        \n",
    "        ex_id = result_df['ex_id'][0]                  #get experiment_id from result_df to pass it to species_dict (only the first line hence the [0]) \n",
    "        output_id_list.append(ex_id)                   \n",
    "        \n",
    "        species_dict = new_prediction[i][1].__dict__   #save species_dict (needs to be stored as a 'dict')\n",
    "        output_species_list.append(species_dict)       #append species_dict to output_species_list\n",
    "        \n",
    "\n",
    "### Save results of model\n",
    "output_results = pd.concat(output_results_list)        #concatenate lists of result_df to one main data frame        \n",
    "        \n",
    "\n",
    "### Save results of resampling    \n",
    "keys = list(output_species_list[0].keys())                          #specify keys(or headers) for species_df, which are simply the keys of the species_dict\n",
    "species_df_list = []                                                #introduce a list of species_df\n",
    "\n",
    "for species_dict in output_species_list:                            #loop through the list of dicts \n",
    "    species_df_list.append(list(species_dict.values()))             #save only values of each species_dict in a list of lists\n",
    "\n",
    "output_species = pd.DataFrame(data=species_df_list, columns=keys)   #save list of lists as a data frame with the specified keys/headers\n",
    "output_species.insert(loc=0, column='ex_id', value=output_id_list)  #add ex_id as first column"
   ]
  },
  {
   "cell_type": "markdown",
   "metadata": {},
   "source": [
    "<a id='section_ID7'></a>\n",
    "## Step 7- Saving output\n",
    "\n",
    "**Save** these outputs as **.csv files**. Next to using these files in your usual data analyses tools, we offer a basic analysis in Part 2 of this Notebook.  By saving these files now, you will be able to upload and analyze it any other time, separate from Part 1.  <br><br>\n",
    "<div class=\"alert alert-block alert-info\">\n",
    "<b>Note:</b> Our recommended file name refers to the <b>date</b> of simulation, the <b>chemical</b>  and the <b>number of simulations</b> as in:\n",
    "    \n",
    "    JJJJMMDD_PBTK_chemical_r000_R.csv  \n",
    "    \n",
    "The R and the S at the end refer to the result file (R) and the equivalent species file (S). These names will be automatically generated based on the specified variables (see Step 5). They can also be changed to any other string file name.\n",
    "</div>\n",
    "\n"
   ]
  },
  {
   "cell_type": "code",
   "execution_count": 12,
   "metadata": {},
   "outputs": [],
   "source": [
    "#concatenate file names from specified variables\n",
    "file_name_S= date+'_PBTK_'+substance.chemical+'_r'+str(runs)+'_S.csv'\n",
    "file_name_R= date+'_PBTK_'+substance.chemical+'_r'+str(runs)+'_R.csv'    "
   ]
  },
  {
   "cell_type": "markdown",
   "metadata": {},
   "source": [
    "<div class=\"alert alert-block alert-danger\">\n",
    "<b>Warning:</b> The next code cell will create two .csv files with the name specified above, into the same working directory where you stored this notebook file. Be aware, that we are using the <b>‘a’</b> – <i>appending</i> mode of the <b>open()</b> function. Hence, if you already have a file that has the above specified name in your working directory, the new data will be added to the end of this file. Thus, if you want to store it separately, <b>make sure you have unique file names</b> or remove files with the same name to a different directory. \n",
    "</div>\n"
   ]
  },
  {
   "cell_type": "code",
   "execution_count": 13,
   "metadata": {},
   "outputs": [
    {
     "name": "stdout",
     "output_type": "stream",
     "text": [
      "A csv file 20200730_PBTK_generic_r200_S.csv containing the virtual species objects was generated.\n",
      "A csv file 20200730_PBTK_generic_r200_R.csv containing the PBTK results was generated.\n"
     ]
    }
   ],
   "source": [
    "#create .csv file for simulated species    \n",
    "with open(file_name_S, 'a') as output_file_species:\n",
    "    output_species.to_csv(output_file_species, index=False)\n",
    "print('A csv file '+file_name_S+' containing the virtual species objects was generated.')  \n",
    "\n",
    "\n",
    "#create .csv file for modelling results\n",
    "with open(file_name_R, 'a') as output_file_results:\n",
    "    output_results.to_csv(output_file_results, index=False)\n",
    "print('A csv file '+file_name_R+' containing the PBTK results was generated.')"
   ]
  },
  {
   "cell_type": "markdown",
   "metadata": {},
   "source": [
    "<a id='section_IDP2'></a>\n",
    "# Part 2 – Analyzing results\n",
    "In the following sections you will find some basic methods to analyze the outputs data of the multi-species PBTK model generated in <a href='#section_IDP1'> Part 1</a> of this Notebook. The analysis tool contains of four steps (subsequent to the seven steps within Part 1): <br>\n",
    "Step  8 – <a href='#section_ID8'>Preparing data frames for analysis and plotting</a> <br>\n",
    "Step  9 – <a href='#section_ID9'>Plotting simulated results</a> <br>\n",
    "Step 10 – <a href='#section_ID10'>Calculating rate constants and bioconcentration factors</a> <br>\n",
    "Step 11 – <a href='#section_ID11'>Plotting analyzed results</a> <br>\n"
   ]
  },
  {
   "cell_type": "markdown",
   "metadata": {},
   "source": [
    "<div class=\"alert alert-block alert-info\">\n",
    "<b>Note:</b> If you want to analyze the data you just generated with our tool, you can just continue here. If you want to only use the analysis tool with previous modeled data, you can do so separately from Part 1 by uploading your files first:  \n",
    "    \n",
    "    output_results = pd.read_csv('20200728_PBTK_generic_r200_R.csv')\n",
    "    \n",
    "    output_species = pd.read_csv('20200728_PBTK_generic_r200_S.csv')\n",
    "</div> </div> \n"
   ]
  },
  {
   "cell_type": "markdown",
   "metadata": {},
   "source": [
    "<a id='section_ID8'></a>\n",
    "## Step 8 - Preparing data frames for analysis and plotting\n",
    "Here, we get the simulated internal concentrations (C_int) over time from the list of model outputs. This data is stored in a new data frame *df_data_T* for its analysis. Further, a summary data frame *summary_df* with the central tendency of the data along with the 5 and 95 percentiles is generated. \n"
   ]
  },
  {
   "cell_type": "code",
   "execution_count": 14,
   "metadata": {},
   "outputs": [],
   "source": [
    "### Create a list of dicts of predictions for plotting and further inspection\n",
    "data_list_dict = []    \n",
    "\n",
    "for i in output_results.ex_id.unique():\n",
    "    x= output_results.loc[output_results['ex_id'] == i].time\n",
    "    y= output_results.loc[output_results['ex_id'] == i].C_int  \n",
    "        \n",
    "    data_list_dict.append({'time': x, 'C_int': y, 'ex_id': i})   \n",
    "\n",
    "    \n",
    "### Save results of resampling in a data frame   \n",
    "time_keys = list(data_list_dict[0].values())[0]                  #specify keys (or headers) for df_data, which are simply the time points of the simulation\n",
    "df_data_list = []                                 \n",
    "df_id_list = []\n",
    "\n",
    "for data_dict in data_list_dict:                                 #loop through the list of dicts \n",
    "    df_data_list.append(list(data_dict['C_int']))                #save C_int of each time point in a list so it can be transferred to one row in the new df_T\n",
    "    df_id_list.append(data_dict['ex_id'])                        #save ex_id of each line of the new df_T\n",
    "    \n",
    "df_data_T = pd.DataFrame(data=df_data_list, columns=time_keys)   #save list of lists as a data frame with the specified keys/headers\n",
    "#df_data_T.head()\n",
    "summary = df_data_T.describe(percentiles=[0.05,0.95])            #Calculate percentiles\n",
    "#summary.head()\n",
    "\n",
    "\n",
    "### Create a list from all means for plot of central tendency and percentiles\n",
    "time   = []\n",
    "means  = []\n",
    "lowers = []\n",
    "uppers = []\n",
    "\n",
    "for i in range(0, len(summary.columns)):\n",
    "    time.append(i)\n",
    "    means.append(summary[i]['mean'])\n",
    "    lowers.append(summary[i]['5%'])\n",
    "    uppers.append(summary[i]['95%'])\n",
    "    \n",
    "summary_df = dict(time = time, mean_ = means, lower = lowers, upper = uppers)  \n",
    "summary_df = pd.DataFrame.from_dict(summary_df, orient='columns', dtype=None)\n",
    "#summary_df.head() "
   ]
  },
  {
   "cell_type": "markdown",
   "metadata": {},
   "source": [
    "<a id='section_ID9'></a>\n",
    "## Step 9 - Plotting simulated results\n",
    "Now, we can plot the simulated internal concentrations in the fish. This plot will **plot each single model run** (grey lines) as well as the calculated **central tendency** (blue line) and **percentiles** (blue dotted lines).  \n"
   ]
  },
  {
   "cell_type": "code",
   "execution_count": 15,
   "metadata": {},
   "outputs": [
    {
     "data": {
      "text/plain": [
       "[<matplotlib.lines.Line2D at 0x17b7d655908>]"
      ]
     },
     "execution_count": 15,
     "metadata": {},
     "output_type": "execute_result"
    },
    {
     "data": {
      "image/png": "[encoded data removed]",
      "text/plain": [
       "<Figure size 432x288 with 1 Axes>"
      ]
     },
     "metadata": {
      "needs_background": "light"
     },
     "output_type": "display_data"
    }
   ],
   "source": [
    "for i in output_results.ex_id.unique():\n",
    "    x= output_results.loc[output_results['ex_id'] == i].time\n",
    "    y= output_results.loc[output_results['ex_id'] == i].C_int  \n",
    "    plt.plot(x,y,c='k', alpha = 0.05)\n",
    "    plt.xlabel('Time [h]')\n",
    "    plt.ylabel(substance.chemical+'\\n'+'Concentration in Fish [µg/kg]')\n",
    "                 \n",
    "plt.plot(summary_df.time, summary_df.mean_, color= 'b')\n",
    "plt.plot(summary_df.time, summary_df.lower, color= 'b', linestyle= '--')\n",
    "plt.plot(summary_df.time, summary_df.upper, color= 'b', linestyle= '--') "
   ]
  },
  {
   "cell_type": "markdown",
   "metadata": {},
   "source": [
    "<a id='section_ID10'></a>\n",
    "## Step 10 - Calculating rate constants and bioconcentration factors\n",
    "\n",
    "The function *analyse_results* calculates the uptake rate constant **k1** and the depuration rate constant **k2** as well as the steady-state bioconcentration factor **BCF_ss** and the kinetic bioconcentration factor **BCF_kin** from the simulated model results. "
   ]
  },
  {
   "cell_type": "code",
   "execution_count": 16,
   "metadata": {},
   "outputs": [],
   "source": [
    "### Calculate slope of line from two points\n",
    "def slope(x1, y1, x2, y2):\n",
    "    return (y2-y1)/(x2-x1)\n",
    "\n",
    "### Evaluation of the resampling predictions \n",
    "def analyse_results (exposure, collection,collection_id_list):\n",
    "    \n",
    "    ### Curve fit function for the determination of uptake rate constant k1\n",
    "    def derive_k1(x, k1):\n",
    "        return exposure.C_exp * (k1 / k2[i]) * (1 - np.exp(-k2[i] * x))   \n",
    "\n",
    "    ### Initialize data frames as empty lists\n",
    "    analysis_collection_list = []   \n",
    "    steady_state = []\n",
    "    BCF_ss = []\n",
    "    k2 = []\n",
    "    k1 = []\n",
    "    BCF_kin = []\n",
    "    ex_id = []\n",
    "    \n",
    "    \n",
    "    ### Iterate through results data frames\n",
    "    for i in range(0, len(collection.index)): \n",
    "        ex_id.append(collection_id_list[i])  #keep track of ex_id\n",
    "            \n",
    "        #1# Steady-state monitoring   \n",
    "        if (np.abs(collection[exposure.expo][i]-collection[exposure.expo-1][i])) <= 0.0005*collection[exposure.expo][i]:\n",
    "            steady_state.append(True)\n",
    "        else:\n",
    "            steady_state.append(False)\n",
    "            #print('Prediction ' + str(collection_id_list[i]) + ' is not in steady state')      \n",
    "            \n",
    "            \n",
    "        #2# Calculation of BCF_ss (only at steady state conditions)\n",
    "        if steady_state[i] == True:\n",
    "            BCF_ss.append((collection[exposure.expo][i]/exposure.C_exp)*1000) \n",
    "        else:\n",
    "            BCF_ss.append(float('nan'))\n",
    "            \n",
    "        #3# Calculation of k2 (only at steady state conditions)\n",
    "        if steady_state[i] == True:\n",
    "            x2_elim = exposure.sim - 1   \n",
    "            x1_elim = exposure.expo + 1\n",
    "            y2_elim = collection[x2_elim][i]\n",
    "            y1_elim = collection[x1_elim][i]\n",
    "            elim_rate = slope(x1_elim, np.log(y1_elim), x2_elim, np.log(y2_elim))\n",
    "            k2.append(-1*elim_rate)\n",
    "        else:\n",
    "            k2.append(float('nan'))\n",
    "                      \n",
    "        #4# Calculation of k1 (only at steady state conditions)\n",
    "        try:\n",
    "            popt, pcov = curve_fit(derive_k1, collection.columns[:exposure.expo], collection.values[i][:exposure.expo])\n",
    "            k1.append(popt[0]*1000)\n",
    "        except (RuntimeError):\n",
    "            #print(str(RuntimeError))\n",
    "            k1.append(float('nan'))\n",
    "            \n",
    "        #5# Calculation of BCF_kin (only at steady state conditions)\n",
    "        if np.isnan(k1[i]) or steady_state[i] == False: \n",
    "            BCF_kin.append(float('nan'))\n",
    "            #print('It was not possible to calkulate k1 for prediction ' + str(collection_id_list[i]) + '. No BCF_kin was calculated')\n",
    "        else:    \n",
    "            BCF_kin.append(k1[i]/k2[i])\n",
    "        \n",
    "            \n",
    "    analysis_collection_list = [steady_state, BCF_ss, k1, k2, BCF_kin, ex_id]\n",
    "    \n",
    "    return analysis_collection_list"
   ]
  },
  {
   "cell_type": "markdown",
   "metadata": {},
   "source": [
    "Here, we call the analyse_results function and inform it with our modelled **substance**, the data frame containing only the internal concentrations of the single model results **df_data_T** and their IDs **df_id_list**. "
   ]
  },
  {
   "cell_type": "code",
   "execution_count": 17,
   "metadata": {},
   "outputs": [],
   "source": [
    "new_analysis = analyse_results(substance, df_data_T, df_id_list)"
   ]
  },
  {
   "cell_type": "markdown",
   "metadata": {},
   "source": [
    "Here, we filter the analysis results, to catch those model runs, which could not be analyzed according to the specified analysis criteria. Finally, we store the analyzed data in a data frame **df_A**. "
   ]
  },
  {
   "cell_type": "code",
   "execution_count": 18,
   "metadata": {},
   "outputs": [
    {
     "name": "stdout",
     "output_type": "stream",
     "text": [
      "The prediction 8 is not in steady state and therefore excluded from further analysis\n",
      "The prediction 25 is not in steady state and therefore excluded from further analysis\n",
      "The prediction 28 is not in steady state and therefore excluded from further analysis\n",
      "The prediction 31 is not in steady state and therefore excluded from further analysis\n",
      "The prediction 40 is not in steady state and therefore excluded from further analysis\n",
      "The prediction 52 is not in steady state and therefore excluded from further analysis\n",
      "The prediction 59 is not in steady state and therefore excluded from further analysis\n",
      "The prediction 70 is not in steady state and therefore excluded from further analysis\n",
      "The prediction 81 is not in steady state and therefore excluded from further analysis\n",
      "The prediction 98 is not in steady state and therefore excluded from further analysis\n",
      "The prediction 100 is not in steady state and therefore excluded from further analysis\n",
      "The prediction 103 is not in steady state and therefore excluded from further analysis\n",
      "The prediction 107 is not in steady state and therefore excluded from further analysis\n",
      "The prediction 108 is not in steady state and therefore excluded from further analysis\n",
      "The prediction 130 is not in steady state and therefore excluded from further analysis\n",
      "The prediction 139 is not in steady state and therefore excluded from further analysis\n",
      "The prediction 149 is not in steady state and therefore excluded from further analysis\n",
      "The prediction 161 is not in steady state and therefore excluded from further analysis\n",
      "The prediction 170 is not in steady state and therefore excluded from further analysis\n",
      "The prediction 188 is not in steady state and therefore excluded from further analysis\n"
     ]
    }
   ],
   "source": [
    "### Initialise lists to store the 'usable' outputs (in terms of steady state)\n",
    "col0 = []\n",
    "col1 = []\n",
    "col2 = []\n",
    "col3 = []\n",
    "col4 = []\n",
    "\n",
    "\n",
    "for i in range(0, len(new_analysis[0])):\n",
    "    if new_analysis[0][i] == False: \n",
    "        print('The prediction ' + str(new_analysis[5][i]) + ' is not in steady state and therefore excluded from further analysis')\n",
    "    elif np.isnan(new_analysis[2][i]) or np.isinf(new_analysis[2][i]):\n",
    "        print('The prediction ' + str(new_analysis[5][i]) + ' does not have k1 and therefore excluded from further analysis')\n",
    "    elif np.isnan(new_analysis[3][i]) or np.isinf(new_analysis[3][i]):\n",
    "        print('The prediction ' + str(new_analysis[5][i]) + ' does not have k2 and therefore excluded from further analysis')\n",
    "    elif np.isnan(new_analysis[4][i]) or np.isinf(new_analysis[4][i]):\n",
    "        print('The prediction ' + str(new_analysis[5][i]) + ' does not have BCF_kin and therefore excluded from further analysis')\n",
    "    else :    \n",
    "        col0.append(new_analysis[5][i])\n",
    "        col1.append(new_analysis[1][i])\n",
    "        col2.append(new_analysis[2][i])\n",
    "        col3.append(new_analysis[3][i])\n",
    "        col4.append(new_analysis[4][i])\n",
    "        \n",
    "### Create a dataframe df_A for analysis results   \n",
    "df_A = dict(ex_id=col0, BCF_ss = col1, k1 = col2, k2 = col3, BCF_kin = col4)  \n",
    "df_A = pd.DataFrame.from_dict(df_A, orient='columns', dtype=None) "
   ]
  },
  {
   "cell_type": "markdown",
   "metadata": {},
   "source": [
    "**Save** the analysis **.csv files**. \n",
    "\n",
    "<div class=\"alert alert-block alert-info\">\n",
    "<b>Note:</b> Our recommended file name refers to the <b>date</b> of simulation, the <b>chemical</b>  and the <b>number of simulations</b> as in:\n",
    "    \n",
    "    JJJJMMDD_PBTK_chemical_r000_A.csv  \n",
    "    \n",
    "The A at the end refer to the analysis file. These names will be automatically generated based on the specified variables (see Step 5). They can also be changed to any other string file name.\n",
    "</div>\n"
   ]
  },
  {
   "cell_type": "code",
   "execution_count": 19,
   "metadata": {},
   "outputs": [],
   "source": [
    "#concatenate file name from specifyed variables\n",
    "file_name_A= date+'_PBTK_'+substance.chemical+'_r'+str(runs)+'_A.csv' "
   ]
  },
  {
   "cell_type": "markdown",
   "metadata": {},
   "source": [
    "<div class=\"alert alert-block alert-danger\">\n",
    "<b>Warning:</b> The next code cell will create a .csv files with the name specified above, into the same working directory where you stored this notebook file. Be aware, that we are using the ‘a’ – appending mode – of the open() function. Hence, if you already have a file that has the above specified name in your working directory, the new data will be added to the end of this file. Thus, if you want to store it separately, make sure you have unique file names or remove files with the same name to a different directory. \n"
   ]
  },
  {
   "cell_type": "code",
   "execution_count": 20,
   "metadata": {},
   "outputs": [
    {
     "name": "stdout",
     "output_type": "stream",
     "text": [
      "A csv file 20200730_PBTK_generic_r200_A.csv containing the analyis of the PBTK results was generated.\n"
     ]
    }
   ],
   "source": [
    "### Create csv file\n",
    "with open(file_name_A, 'a') as output_file_analysis:\n",
    "    df_A.to_csv(output_file_analysis, index=False)\n",
    "print('A csv file '+file_name_A+' containing the analyis of the PBTK results was generated.')      "
   ]
  },
  {
   "cell_type": "markdown",
   "metadata": {},
   "source": [
    "<a id='section_ID11'></a>\n",
    "## Step 11 - Plotting rate constants and bioconcentration factors \n",
    "\n"
   ]
  },
  {
   "cell_type": "code",
   "execution_count": 21,
   "metadata": {},
   "outputs": [
    {
     "name": "stdout",
     "output_type": "stream",
     "text": [
      "Summary:\n",
      "            ex_id      BCF_ss          k1          k2     BCF_kin\n",
      "count  116.000000  116.000000  116.000000  116.000000  116.000000\n",
      "mean    98.689655  326.350033   16.440351    0.073186  334.660004\n",
      "std     59.548652  137.122004   15.363729    0.120102  140.834718\n",
      "min      0.000000   45.349872    1.383248    0.007282   45.420569\n",
      "25%     50.750000  210.935148    8.057733    0.023289  221.574407\n",
      "50%    100.000000  335.167746   13.547147    0.040029  340.221902\n",
      "75%    148.500000  438.467551   18.621576    0.068808  455.246403\n",
      "max    199.000000  577.054550  106.981242    0.918723  581.431036\n",
      "Geometric means:\n",
      "ex_id        0.000000\n",
      "BCF_ss     289.593628\n",
      "k1          12.535267\n",
      "k2           0.042225\n",
      "BCF_kin    296.866719\n",
      "dtype: float64\n"
     ]
    },
    {
     "name": "stderr",
     "output_type": "stream",
     "text": [
      "C:\\Users\\magol001\\AppData\\Local\\Continuum\\anaconda3\\lib\\site-packages\\scipy\\stats\\stats.py:308: RuntimeWarning: divide by zero encountered in log\n",
      "  log_a = np.log(np.array(a, dtype=dtype))\n"
     ]
    },
    {
     "data": {
      "text/plain": [
       "Text(0, 0.5, 'k2 [1/h]')"
      ]
     },
     "execution_count": 21,
     "metadata": {},
     "output_type": "execute_result"
    },
    {
     "data": {
      "image/png": "[encoded data removed]",
      "text/plain": [
       "<Figure size 720x720 with 4 Axes>"
      ]
     },
     "metadata": {
      "needs_background": "light"
     },
     "output_type": "display_data"
    }
   ],
   "source": [
    "### Print the summary description of analysis results (e,g, means, std and min and max) \n",
    "print('Summary:')\n",
    "print(df_A.describe()) \n",
    "### Print the geometric mean (not included in describe function above) of analysis results\n",
    "print('Geometric means:')\n",
    "print(df_A.apply(scst.gmean))\n",
    "\n",
    "_, axes = plt.subplots(2, 2, sharey=False, figsize=(10, 10))  ##defining the number of plots (2+2=4)\n",
    "sns.despine()  ## remove the top and right line in graph\n",
    "\n",
    "g1 = sns.violinplot(data=df_A, y='BCF_kin', ax=axes[0,0])\n",
    "g1.set_xticklabels(['BCF_kin'])\n",
    "#g1.set_title(\"Title\",fontsize=25)   \n",
    "g1.set_ylabel('Bioconcentration Factor L/kg',fontsize=10, )\n",
    "\n",
    "g2 = sns.violinplot(data=df_A, y='BCF_ss', ax=axes[0,1])\n",
    "g2.set_xticklabels(['BCF_ss'])\n",
    "#g2.set_title(\"Title\",fontsize=25)\n",
    "g2.set_ylabel('Bioconcentration Factor [L/kg]',fontsize=10)\n",
    "\n",
    "g3 = sns.violinplot(data=df_A, y='k1', ax=axes[1,0])\n",
    "g3.set_xticklabels(['k1'])\n",
    "#g3.set_title(\"Title\",fontsize=25)\n",
    "g3.set_ylabel('k1 [L/kg*h]',fontsize=10)\n",
    "\n",
    "g4 = sns.violinplot(data=df_A, y='k2', ax=axes[1,1])\n",
    "g4.set_xticklabels(['k2']) \n",
    "#g4.set_title(\"Title\",fontsize=25)\n",
    "g4.set_ylabel('k2 [1/h]',fontsize=10,labelpad= 1)"
   ]
  },
  {
   "cell_type": "markdown",
   "metadata": {},
   "source": [
    "<a id='section_IDRef'></a>\n",
    "# References\n",
    "- Mangold-Döring, A., Grimard, C., Green, D., MacPherson, S., Hogan, N., Weber, L., ...& Brinkmann, M. (2020). A Novel Multi-Species Toxicokinetic Modeling Approach in Support of Chemical Risk Assessment (submitted to ES&T in August 2020)\n",
    "- Brinkmann, M., Eichbaum, K., Buchinger, S., Reifferscheid, G., Bui, T., Schaeffer, A., ... & Preuss, T. G. (2014a). Understanding receptor-mediated effects in rainbow trout: in vitro-in vivo extrapolation using physiologically based toxicokinetic models. Environmental science & technology, 48(6), 3303-3309.\n",
    "- Brinkmann, M., Eichbaum, K., Kammann, U., Hudjetz, S., Cofalla, C., Buchinger, S., ... & Hollert, H. (2014b). Physiologically-based toxicokinetic models help identifying the key factors affecting contaminant uptake during flood events. Aquatic toxicology, 152, 38-46.\n",
    "- Brinkmann, M., Schlechtriem, C., Reininghaus, M., Eichbaum, K., Buchinger, S., Reifferscheid, G., ... & Preuss, T. G. (2016). Cross-species extrapolation of uptake and disposition of neutral organic chemicals in fish using a multispecies physiologically-based toxicokinetic model framework. Environmental science & technology, 50(4), 1914-1923.\n",
    "- Nichols, J. W., McKim, J. M., Andersen, M. E., Gargas, M. L., Clewell 3rd, H. J., & Erickson, R. J. (1990). A physiologically based toxicokinetic model for the uptake and disposition of waterborne organic chemicals in fish. Toxicology and applied pharmacology, 106(3), 433.\n",
    "- Stadnicka, J., Schirmer, K., & Ashauer, R. (2012). Predicting concentrations of organic chemicals in fish by using toxicokinetic models. Environmental science & technology, 46(6), 3273-3280."
   ]
  }
 ],
 "metadata": {
  "kernelspec": {
   "display_name": "Python 3",
   "language": "python",
   "name": "python3"
  },
  "language_info": {
   "codemirror_mode": {
    "name": "ipython",
    "version": 3
   },
   "file_extension": ".py",
   "mimetype": "text/x-python",
   "name": "python",
   "nbconvert_exporter": "python",
   "pygments_lexer": "ipython3",
   "version": "3.7.3"
  }
 },
 "nbformat": 4,
 "nbformat_minor": 2
}
